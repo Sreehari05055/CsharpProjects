{
  "nbformat": 4,
  "nbformat_minor": 0,
  "metadata": {
    "colab": {
      "provenance": [],
      "mount_file_id": "1WnknR7u6F4zNhXdOKcU3tZHrRW88ZRE8",
      "authorship_tag": "ABX9TyNYl3d+MN/uBLiusWLc0Hs8",
      "include_colab_link": true
    },
    "kernelspec": {
      "name": "python3",
      "display_name": "Python 3"
    },
    "language_info": {
      "name": "python"
    }
  },
  "cells": [
    {
      "cell_type": "markdown",
      "metadata": {
        "id": "view-in-github",
        "colab_type": "text"
      },
      "source": [
        "<a href=\"https://colab.research.google.com/github/Sreehari05055/CsharpProjects/blob/main/CustomBot.ipynb\" target=\"_parent\"><img src=\"https://colab.research.google.com/assets/colab-badge.svg\" alt=\"Open In Colab\"/></a>"
      ]
    },
    {
      "cell_type": "code",
      "execution_count": 4,
      "metadata": {
        "id": "9oWZWS9BRe44",
        "colab": {
          "base_uri": "https://localhost:8080/"
        },
        "outputId": "b7e51b31-d324-45e1-d3fa-9e3c1fd10a1c"
      },
      "outputs": [
        {
          "output_type": "stream",
          "name": "stderr",
          "text": [
            "/usr/local/lib/python3.10/dist-packages/sentence_transformers/cross_encoder/CrossEncoder.py:11: TqdmExperimentalWarning: Using `tqdm.autonotebook.tqdm` in notebook mode. Use `tqdm.tqdm` instead to force console mode (e.g. in jupyter console)\n",
            "  from tqdm.autonotebook import tqdm, trange\n"
          ]
        }
      ],
      "source": [
        "import numpy as np\n",
        "import nltk\n",
        "import string\n",
        "import random\n",
        "from sklearn.feature_extraction.text import TfidfVectorizer\n",
        "from sklearn.metrics.pairwise import cosine_similarity\n",
        "from nltk.stem import WordNetLemmatizer\n",
        "from sentence_transformers import SentenceTransformer,util"
      ]
    },
    {
      "cell_type": "markdown",
      "source": [
        "# Reading Chatbot txt file"
      ],
      "metadata": {
        "id": "fq02QoBpS_g4"
      }
    },
    {
      "cell_type": "code",
      "source": [
        "f = open('Chatbot.txt','r',errors = 'ignore')\n",
        "raw_document = f.read()\n",
        "nltk.download('punkt')\n",
        "nltk.download('wordnet')\n",
        "sent_tokens = nltk.sent_tokenize(raw_document)\n",
        "word_tokens = nltk.word_tokenize(raw_document)"
      ],
      "metadata": {
        "colab": {
          "base_uri": "https://localhost:8080/"
        },
        "id": "WViNAn-URi_B",
        "outputId": "92636fd8-d1ad-4677-eb9f-e82860b5e91c"
      },
      "execution_count": 9,
      "outputs": [
        {
          "output_type": "stream",
          "name": "stderr",
          "text": [
            "[nltk_data] Downloading package punkt to /root/nltk_data...\n",
            "[nltk_data]   Package punkt is already up-to-date!\n",
            "[nltk_data] Downloading package wordnet to /root/nltk_data...\n",
            "[nltk_data]   Package wordnet is already up-to-date!\n"
          ]
        }
      ]
    },
    {
      "cell_type": "code",
      "source": [
        "lemmer = WordNetLemmatizer()\n",
        "\n",
        "def LemToken(tokens):\n",
        "  return [lemmer.lemmatize(token) for token in tokens ]\n",
        "#remove_punct_dict = dict((ord(punct), None) for punct in string.punctuation)\n",
        "def LemNormalize(text):\n",
        "  return LemToken(nltk.word_tokenize(text))"
      ],
      "metadata": {
        "id": "v5wO4DDQTPe0"
      },
      "execution_count": 10,
      "outputs": []
    },
    {
      "cell_type": "code",
      "source": [
        "greetings = (\"hello\",\"hi\",\"greetings\",\"sup\",\"whats up\",\"hey\",)\n",
        "greeting_response = [\"Hi\",\"Hey\",\"Hi there\",\"Hello\"]\n",
        "\n",
        "def greet(sentence):\n",
        "  for word in sentence.split():\n",
        "    if word.lower() in greetings:\n",
        "      return random.choice(greeting_response)\n",
        "  return\n",
        "\n",
        "\n",
        "model = SentenceTransformer('paraphrase-MiniLM-L6-v2')\n",
        "\n",
        "\n",
        "corpus = model.encode(sent_tokens, convert_to_tensor=True)\n",
        "\n",
        "# Define the function to generate the bot response using Sentence-BERT\n",
        "def sbert_response(query):\n",
        "    query_embedding = model.encode(query, convert_to_tensor=True)\n",
        "    cosine_scores = util.pytorch_cos_sim(query_embedding, corpus)\n",
        "    best_doc_idx = cosine_scores.argmax().item()\n",
        "    best_score = cosine_scores[0][best_doc_idx].item()\n",
        "\n",
        "    if best_score < 0.5:\n",
        "        return\"I am sorry! I don't understand you\"\n",
        "    return sent_tokens[best_doc_idx]\n",
        "\n",
        "if __name__ == \"__main__\":\n",
        "  flag = False\n",
        "  print(\"BOT: I am CustomGpt. Let me know where you are struggling!\")\n",
        "  while(flag == False):\n",
        "    user_response = input(\"YOU: \").lower()\n",
        "    if(user_response != 'bye'):\n",
        "      if(user_response == 'thanks' or user_response == 'thank you'):\n",
        "        flag = True\n",
        "        print(\"BOT: You are welcome..\")\n",
        "      else:\n",
        "        if(greet(user_response) != None):\n",
        "          print(\"BOT: \"+greet(user_response))\n",
        "        else:\n",
        "\n",
        "          print(\"BOT: \", end=\"\")\n",
        "          print(sbert_response(user_response))\n",
        "\n",
        "    else:\n",
        "      flag = True\n",
        "      print(\"BOT: Goodbye! Take care <3\")"
      ],
      "metadata": {
        "id": "8oN1sCHtYXXe",
        "colab": {
          "base_uri": "https://localhost:8080/"
        },
        "outputId": "2782eecf-7a2d-433c-dab1-ec8781d8a244"
      },
      "execution_count": null,
      "outputs": [
        {
          "output_type": "stream",
          "name": "stdout",
          "text": [
            "BOT: I am CustomGpt. Let me know where you are struggling!\n",
            "YOU: who are wright bros\n",
            "BOT: The Wright brothers, Orville and Wilbur Wright, were American aviation pioneers.\n",
            "YOU: birth date\n",
            "BOT: I am sorry! I don't understand you\n",
            "YOU: when were they born\n",
            "BOT: I am sorry! I don't understand you\n",
            "YOU: when were wright brothers born\n",
            "BOT: The Wright brothers, Orville and Wilbur Wright, were American aviation pioneers.\n",
            "YOU: born\n",
            "BOT: I am sorry! I don't understand you\n",
            "YOU: when was wilbur born\n",
            "BOT: Orville Wright was born on August 19, 1871, and Wilbur Wright was born on April 16, 1867.\n"
          ]
        }
      ]
    }
  ]
}